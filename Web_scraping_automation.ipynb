{
 "cells": [
  {
   "cell_type": "code",
   "execution_count": 1,
   "source": [
    "import pandas as pd\r\n",
    "import numpy as np\r\n",
    "import os.path\r\n",
    "import requests \r\n",
    "import pandas as pd \r\n",
    "from bs4 import BeautifulSoup \r\n",
    "from googlesearch import search\r\n",
    "import pdfplumber"
   ],
   "outputs": [],
   "metadata": {}
  },
  {
   "cell_type": "code",
   "execution_count": 3,
   "source": [
    "df = pd.read_csv(r'C:\\Users\\Praneeta\\web scraping\\RVCE_Text data search_Telugu - AGRICULTURE.csv')\r\n",
    "print(df)"
   ],
   "outputs": [
    {
     "output_type": "stream",
     "name": "stdout",
     "text": [
      "    Responsible person name       Date:                        Topics  \\\n",
      "0                       NaN         NaN                           NaN   \n",
      "1                     Pooja  14-06-2021                        Farmer   \n",
      "2                     Pooja  14-06-2021                    Production   \n",
      "3                     Pooja  14-06-2021                           NaN   \n",
      "4                     Pooja  14-06-2021                           NaN   \n",
      "..                      ...         ...                           ...   \n",
      "512                 Akshita  21-06-2021                     Seed bank   \n",
      "513                 Akshita  21-06-2021  List of Indian state flowers   \n",
      "514                 Akshita  21-06-2021    List of Indian state trees   \n",
      "515                 Akshita  21-06-2021                     gardening   \n",
      "516                 Akshita  21-06-2021                 Deforestation   \n",
      "\n",
      "                        Sub-topics  \\\n",
      "0                              NaN   \n",
      "1                              NaN   \n",
      "2                              NaN   \n",
      "3        1Crop cultivation systems   \n",
      "4    2Livestock production systems   \n",
      "..                             ...   \n",
      "512                            NaN   \n",
      "513                            NaN   \n",
      "514                            NaN   \n",
      "515                            NaN   \n",
      "516                            NaN   \n",
      "\n",
      "                                                 Link1  \\\n",
      "0                                                 1386   \n",
      "1    https://te.wikipedia.org/wiki/%E0%B0%B0%E0%B1%...   \n",
      "2    https://te.vikaspedia.in/agriculture/crop-prod...   \n",
      "3    https://te.wikipedia.org/wiki/%E0%B0%B5%E0%B1%...   \n",
      "4    https://adilabad.telangana.gov.in/te/%E0%B0%AA...   \n",
      "..                                                 ...   \n",
      "512  https://te.kansasteamnutrition.org/seed-bank-i...   \n",
      "513  https://te.wikipedia.org/wiki/%E0%B0%AD%E0%B0%...   \n",
      "514  https://te.wikipedia.org/wiki/%E0%B0%AD%E0%B0%...   \n",
      "515     https://te.thecorporatedictionary.com/jardiner   \n",
      "516  https://te.vikaspedia.in/rural-energy/environm...   \n",
      "\n",
      "                                                 Link2  \\\n",
      "0                                                  NaN   \n",
      "1    https://zeenews.india.com/telugu/telangana/ryt...   \n",
      "2        https://apagrisnet.gov.in/vyvasaayasaakha.php   \n",
      "3    https://te.vikaspedia.in/agriculture/c24c30c1a...   \n",
      "4    https://ananthapuramu.ap.gov.in/te/%E0%B0%AA%E...   \n",
      "..                                                 ...   \n",
      "512  https://te.thecorporatedictionary.com/bancos-d...   \n",
      "513                                                NaN   \n",
      "514                                                NaN   \n",
      "515  https://www.jardineriaon.com/te/nociones-basic...   \n",
      "516    https://te.warbletoncouncil.org/forestacion-994   \n",
      "\n",
      "                                                 Link3  \\\n",
      "0                                                  NaN   \n",
      "1    https://telugu.samayam.com/telangana/news/tela...   \n",
      "2    https://kamareddy.telangana.gov.in/te/%E0%B0%B...   \n",
      "3    https://te.vikaspedia.in/agriculture/c24c30c1a...   \n",
      "4    https://srikakulam.ap.gov.in/te/%E0%B0%AA%E0%B...   \n",
      "..                                                 ...   \n",
      "512  https://te.network7news.com/what-is-seed-bank-...   \n",
      "513                                                NaN   \n",
      "514                                                NaN   \n",
      "515  https://te.kansasteamnutrition.org/gardening-f...   \n",
      "516  https://te.warbletoncouncil.org/causas-consecu...   \n",
      "\n",
      "                                                 Link4  \\\n",
      "0                                                  NaN   \n",
      "1    https://telugu.samayam.com/andhra-pradesh/news...   \n",
      "2                                                  NaN   \n",
      "3    https://apagrisnet.gov.in/verushanaga_tegullu_...   \n",
      "4                                                  NaN   \n",
      "..                                                 ...   \n",
      "512                                                NaN   \n",
      "513                                                NaN   \n",
      "514                                                NaN   \n",
      "515  https://te.wikipedia.org/wiki/%E0%B0%B5%E0%B0%...   \n",
      "516     https://te.wvpt4learning.org/deforestacion-242   \n",
      "\n",
      "                                         Unnamed: 8  \\\n",
      "0                                               NaN   \n",
      "1                                               NaN   \n",
      "2                                               NaN   \n",
      "3    https://apagrisnet.gov.in/pratthi_thegullu.php   \n",
      "4                                               NaN   \n",
      "..                                              ...   \n",
      "512                                             NaN   \n",
      "513                                             NaN   \n",
      "514                                             NaN   \n",
      "515                                             NaN   \n",
      "516   https://te.wvpt4learning.org/forestacion-1677   \n",
      "\n",
      "                                            Unnamed: 9 Unnamed: 10  \n",
      "0                                                  NaN         NaN  \n",
      "1                                                  NaN         NaN  \n",
      "2                                                  NaN         NaN  \n",
      "3                                                  NaN         NaN  \n",
      "4                                                  NaN         NaN  \n",
      "..                                                 ...         ...  \n",
      "512                                                NaN         NaN  \n",
      "513                                                NaN         NaN  \n",
      "514                                                NaN         NaN  \n",
      "515                                                NaN         NaN  \n",
      "516  https://te.ijrbtonline.com/advantages-disadvan...         NaN  \n",
      "\n",
      "[517 rows x 11 columns]\n"
     ]
    }
   ],
   "metadata": {
    "scrolled": true
   }
  },
  {
   "cell_type": "code",
   "execution_count": 4,
   "source": [
    "df.head()\r\n",
    "df.shape"
   ],
   "outputs": [
    {
     "output_type": "execute_result",
     "data": {
      "text/plain": [
       "(517, 11)"
      ]
     },
     "metadata": {},
     "execution_count": 4
    }
   ],
   "metadata": {}
  },
  {
   "cell_type": "code",
   "execution_count": 29,
   "source": [
    "data = df.iloc[:,:].values\r\n",
    "folderpath = \"D:\\interships_projects\\iisc\\web_scraping\\Automated-Web-Scraping-for-NLP-Model-Building\\Extracted_Sample\""
   ],
   "outputs": [],
   "metadata": {}
  },
  {
   "cell_type": "code",
   "execution_count": 30,
   "source": [
    "def getdata(url): \r\n",
    "    r = requests.get(url) \r\n",
    "    return r.text\r\n",
    "\r\n",
    "def textScraping(link, name_of_file, filename):\r\n",
    "    count = 0\r\n",
    "    filePath = os.path.join(folderpath, name_of_file, filename)         \r\n",
    "    f = open(filePath, \"w\",encoding=\"utf-8\")\r\n",
    "    f2=open(\"testc.txt\",\"w+\",encoding=\"utf-8\")  \r\n",
    "    htmldata = getdata(link) \r\n",
    "    soup = BeautifulSoup(htmldata, 'html.parser') \r\n",
    "    data =''\r\n",
    "    text=\"\"\r\n",
    "    text2=\"\"\r\n",
    "    text3=\"\"\r\n",
    "    text4=\"\"\r\n",
    "    s=\"\"\r\n",
    "    for data in soup.find_all(\"p\"):\r\n",
    "        text+=data.get_text()\r\n",
    "    text2+=text.replace('.', '.\\n')\r\n",
    "    text3+=text2.replace('  ', '')  \r\n",
    "    text4+=text3.replace('\\n\\n', '\\n')  \r\n",
    "    f.write(text4)\r\n",
    "    f.close()\r\n",
    "    filePath = os.path.join(folderpath, name_of_file, filename)         \r\n",
    "    f = open(filePath, \"r\",encoding=\"utf-8\")\r\n",
    "    s = f.readline()\r\n",
    "    while s:\r\n",
    "        if(len(s)>10):\r\n",
    "            f2.write(s)\r\n",
    "            count += 1\r\n",
    "        s = f.readline()\r\n",
    "    f.close()\r\n",
    "    f2.close()\r\n",
    "    os.remove(\"testc.txt\")\r\n",
    "    print(count, \"lines extracted to\",filename, \"from webpage\", link)"
   ],
   "outputs": [],
   "metadata": {}
  },
  {
   "cell_type": "code",
   "execution_count": 31,
   "source": [
    "filename=\"\"\r\n",
    "directory = \"\"\r\n",
    "for x in range(2,5):\r\n",
    "    directory = \"\"\r\n",
    "    if type(data[x][4])!=type(data[0][0]):\r\n",
    "        if type(data[x][2])!=type(data[0][0]):\r\n",
    "            name_of_file = str(data[x][2])\r\n",
    "            completeName = os.path.join(folderpath, name_of_file)         \r\n",
    "            os.mkdir(completeName)\r\n",
    "            i,k = 1,4\r\n",
    "            while k<11 and (type(data[x][k])!=type(data[0][0])):\r\n",
    "                filename = filename + data[x][2] + str(i) + \".txt\"\r\n",
    "                try:\r\n",
    "                    textScraping(data[x][k], name_of_file, filename)\r\n",
    "                except:\r\n",
    "                    print(\"Error\")\r\n",
    "                filename=\"\"\r\n",
    "                k += 1\r\n",
    "                i += 1\r\n",
    "        elif type(data[x][3])!=type(data[0][0]):\r\n",
    "            name_of_file = str(data[x][3])\r\n",
    "            completeName = os.path.join(folderpath, name_of_file)         \r\n",
    "            os.mkdir(completeName)\r\n",
    "            i,k = 1,4\r\n",
    "            while k<11 and (type(data[x][k])!=type(data[0][0])):\r\n",
    "                filename = filename + data[x][3] + str(i) + \".txt\"\r\n",
    "                try:    \r\n",
    "                    textScraping(data[x][k],name_of_file,filename)\r\n",
    "                except:\r\n",
    "                    print(\"Error\")\r\n",
    "                k += 1\r\n",
    "                i += 1\r\n",
    "                filename=\"\""
   ],
   "outputs": [
    {
     "output_type": "stream",
     "name": "stdout",
     "text": [
      "462 lines extracted to Production1.txt from webpage https://te.vikaspedia.in/agriculture/crop-production/production-technologies\n",
      "27 lines extracted to Production2.txt from webpage https://apagrisnet.gov.in/vyvasaayasaakha.php\n",
      "43 lines extracted to Production3.txt from webpage https://kamareddy.telangana.gov.in/te/%E0%B0%B5%E0%B0%BF%E0%B0%AD%E0%B0%BE%E0%B0%97%E0%B0%BE%E0%B0%B2%E0%B1%81/%E0%B0%B5%E0%B1%8D%E0%B0%AF%E0%B0%B5%E0%B0%B8%E0%B0%BE%E0%B0%AF%E0%B0%82/\n",
      "60 lines extracted to 1Crop cultivation systems1.txt from webpage https://te.wikipedia.org/wiki/%E0%B0%B5%E0%B1%8D%E0%B0%AF%E0%B0%B5%E0%B0%B8%E0%B0%BE%E0%B0%AF%E0%B0%82\n",
      "73 lines extracted to 1Crop cultivation systems2.txt from webpage https://te.vikaspedia.in/agriculture/c24c30c1ac41c17c3e-c05c21c41c17c41-c2ac4dc30c36c4dc28c32c41/c15c02c26c3f\n",
      "408 lines extracted to 1Crop cultivation systems3.txt from webpage https://te.vikaspedia.in/agriculture/c24c30c1ac41c17c3e-c05c21c41c17c41-c2ac4dc30c36c4dc28c32c41/c35c32c3f\n",
      "68 lines extracted to 1Crop cultivation systems4.txt from webpage https://apagrisnet.gov.in/verushanaga_tegullu_details.php#aggitegulu\n",
      "60 lines extracted to 1Crop cultivation systems5.txt from webpage https://apagrisnet.gov.in/pratthi_thegullu.php\n",
      "30 lines extracted to 2Livestock production systems1.txt from webpage https://adilabad.telangana.gov.in/te/%E0%B0%AA%E0%B0%B6%E0%B1%81%E0%B0%B8%E0%B0%82%E0%B0%B0%E0%B0%95%E0%B1%8D%E0%B0%B7%E0%B0%A3/\n",
      "12 lines extracted to 2Livestock production systems2.txt from webpage https://ananthapuramu.ap.gov.in/te/%E0%B0%AA%E0%B0%B6%E0%B1%81%E0%B0%B8%E0%B0%82%E0%B0%B0%E0%B0%95%E0%B1%8D%E0%B0%B7%E0%B0%A3/\n",
      "8 lines extracted to 2Livestock production systems3.txt from webpage https://srikakulam.ap.gov.in/te/%E0%B0%AA%E0%B0%B6%E0%B1%81%E0%B0%B8%E0%B0%82%E0%B0%B0%E0%B0%95%E0%B1%8D%E0%B0%B7%E0%B0%A3-%E0%B0%B6%E0%B0%BE%E0%B0%96/\n"
     ]
    }
   ],
   "metadata": {}
  },
  {
   "cell_type": "code",
   "execution_count": null,
   "source": [],
   "outputs": [],
   "metadata": {}
  }
 ],
 "metadata": {
  "kernelspec": {
   "name": "python3",
   "display_name": "Python 3.8.5 64-bit"
  },
  "language_info": {
   "codemirror_mode": {
    "name": "ipython",
    "version": 3
   },
   "file_extension": ".py",
   "mimetype": "text/x-python",
   "name": "python",
   "nbconvert_exporter": "python",
   "pygments_lexer": "ipython3",
   "version": "3.8.5"
  },
  "interpreter": {
   "hash": "ea8a1668715bb5a75bf4702bfdfa7682128f075520af10611fa1d97dcf3016de"
  }
 },
 "nbformat": 4,
 "nbformat_minor": 4
}